{
 "cells": [
  {
   "cell_type": "markdown",
   "metadata": {},
   "source": [
    "<a href=\"https://colab.research.google.com/github/jerryjliu/llama_index/blob/main/docs/examples/callbacks/OpenInferenceCallback.ipynb\" target=\"_parent\"><img src=\"https://colab.research.google.com/assets/colab-badge.svg\" alt=\"Open In Colab\"/></a>"
   ]
  },
  {
   "cell_type": "markdown",
   "metadata": {},
   "source": [
    "# UpTrain Callback Handler\n",
    "\n"
   ]
  },
  {
   "cell_type": "markdown",
   "metadata": {},
   "source": [
    "## Install Dependencies and Import Libraries\n",
    "\n",
    "Install notebook dependencies."
   ]
  },
  {
   "cell_type": "code",
   "execution_count": null,
   "metadata": {},
   "outputs": [],
   "source": [
    "!pip install -q html2text llama-index pandas tqdm uptrain cohere"
   ]
  },
  {
   "cell_type": "markdown",
   "metadata": {},
   "source": [
    "Import libraries.\n"
   ]
  },
  {
   "cell_type": "code",
   "execution_count": null,
   "metadata": {},
   "outputs": [],
   "source": [
    "from llama_index import (\n",
    "    ServiceContext,\n",
    "    VectorStoreIndex,\n",
    ")\n",
    "from llama_index.node_parser import SentenceSplitter\n",
    "from llama_index.readers import SimpleWebPageReader\n",
    "from llama_index.callbacks import CallbackManager, UpTrainCallbackHandler\n",
    "from llama_index.postprocessor.cohere_rerank import CohereRerank\n",
    "from llama_index.node_parser import SentenceSplitter\n",
    "from llama_index.service_context import set_global_service_context\n",
    "from llama_index.query_engine.sub_question_query_engine import (\n",
    "    SubQuestionQueryEngine,\n",
    ")\n",
    "from llama_index.tools.query_engine import QueryEngineTool\n",
    "from llama_index.tools.types import ToolMetadata\n",
    "from llama_index.llms import OpenAI\n",
    "from llama_index.query_engine import FLAREInstructQueryEngine\n",
    "from llama_index import (\n",
    "    VectorStoreIndex,\n",
    "    ServiceContext,\n",
    ")\n",
    "from llama_index.callbacks import CallbackManager, UpTrainCallbackHandler"
   ]
  },
  {
   "cell_type": "markdown",
   "metadata": {},
   "source": [
    "## Setup\n",
    "\n",
    "Instantiate the UpTrain callback handler and attach to the service context."
   ]
  },
  {
   "cell_type": "code",
   "execution_count": null,
   "metadata": {},
   "outputs": [],
   "source": [
    "callback_handler = UpTrainCallbackHandler(\n",
    "    uptrain_api_key=\"up-************************\"\n",
    ")\n",
    "callback_manager = CallbackManager([callback_handler])\n",
    "service_context = ServiceContext.from_defaults(\n",
    "    callback_manager=callback_manager\n",
    ")\n",
    "set_global_service_context(service_context)"
   ]
  },
  {
   "cell_type": "markdown",
   "metadata": {},
   "source": [
    "## Load and Parse Documents\n",
    "\n",
    "Load documents from Paul Graham's essay \"What I Worked On\"."
   ]
  },
  {
   "cell_type": "code",
   "execution_count": null,
   "metadata": {},
   "outputs": [],
   "source": [
    "documents = SimpleWebPageReader().load_data(\n",
    "    [\n",
    "        \"https://raw.githubusercontent.com/run-llama/llama_index/main/docs/examples/data/paul_graham/paul_graham_essay.txt\"\n",
    "    ]\n",
    ")\n",
    "# print(documents[0].text)"
   ]
  },
  {
   "cell_type": "markdown",
   "metadata": {},
   "source": [
    "Parse the document into nodes. Display the first node's text."
   ]
  },
  {
   "cell_type": "code",
   "execution_count": null,
   "metadata": {},
   "outputs": [],
   "source": [
    "parser = SentenceSplitter()\n",
    "nodes = parser.get_nodes_from_documents(documents)\n",
    "print(nodes[0].text)"
   ]
  },
  {
   "cell_type": "markdown",
   "metadata": {},
   "source": [
    "# 1. Query"
   ]
  },
  {
   "cell_type": "markdown",
   "metadata": {},
   "source": [
    "Build and run your query engine across a collection of queries."
   ]
  },
  {
   "cell_type": "code",
   "execution_count": null,
   "metadata": {},
   "outputs": [],
   "source": [
    "index = VectorStoreIndex.from_documents(\n",
    "    documents, service_context=service_context\n",
    ")\n",
    "query_engine = index.as_query_engine()\n",
    "\n",
    "max_characters_per_line = 80\n",
    "queries = [\n",
    "    \"What did Paul Graham do growing up?\",\n",
    "    \"When and how did Paul Graham's mother die?\",\n",
    "    \"What, in Paul Graham's opinion, is the most distinctive thing about YC?\",\n",
    "    \"When and how did Paul Graham meet Jessica Livingston?\",\n",
    "    \"What is Bel, and when and where was it written?\",\n",
    "]\n",
    "for query in queries:\n",
    "    response = query_engine.query(query)"
   ]
  },
  {
   "cell_type": "markdown",
   "metadata": {},
   "source": [
    "# 2. Sub-Question"
   ]
  },
  {
   "cell_type": "markdown",
   "metadata": {},
   "source": [
    "### Setup sub question query engine"
   ]
  },
  {
   "cell_type": "code",
   "execution_count": null,
   "metadata": {},
   "outputs": [],
   "source": [
    "# build index and query engine\n",
    "vector_query_engine = VectorStoreIndex.from_documents(\n",
    "    documents=documents, use_async=True, service_context=service_context\n",
    ").as_query_engine()\n",
    "\n",
    "query_engine_tools = [\n",
    "    QueryEngineTool(\n",
    "        query_engine=vector_query_engine,\n",
    "        metadata=ToolMetadata(\n",
    "            name=\"documents\",\n",
    "            description=\"Paul Graham essay on What I Worked On\",\n",
    "        ),\n",
    "    ),\n",
    "]\n",
    "\n",
    "query_engine = SubQuestionQueryEngine.from_defaults(\n",
    "    query_engine_tools=query_engine_tools,\n",
    "    service_context=service_context,\n",
    "    use_async=True,\n",
    ")\n",
    "\n",
    "response = query_engine.query(\n",
    "    \"How was Paul Grahams life different before, during, and after YC?\"\n",
    ")"
   ]
  },
  {
   "cell_type": "markdown",
   "metadata": {},
   "source": [
    "# 3. Re-ranking"
   ]
  },
  {
   "cell_type": "code",
   "execution_count": null,
   "metadata": {},
   "outputs": [],
   "source": [
    "# Recipe\n",
    "# Define a Postprocessor object, here CohereRerank\n",
    "# Build QueryEngine that uses this Postprocessor on retrieved docs\n",
    "\n",
    "# Build CohereRerank post retrieval processor\n",
    "api_key = \"**********************************\"  # insert cohere API key here\n",
    "cohere_rerank = CohereRerank(api_key=api_key, top_n=5)\n",
    "\n",
    "index = VectorStoreIndex.from_documents(\n",
    "    documents=documents, service_context=service_context\n",
    ")\n",
    "query_engine = index.as_query_engine(\n",
    "    similarity_top_k=10,\n",
    "    node_postprocessors=[cohere_rerank],\n",
    "    service_context=service_context,\n",
    ")\n",
    "\n",
    "# Use your advanced RAG\n",
    "response = query_engine.query(\n",
    "    \"What did Sam Altman do in this essay?\",\n",
    ")"
   ]
  },
  {
   "cell_type": "markdown",
   "metadata": {},
   "source": [
    "# 4. Generator-Enhanced Retrieval"
   ]
  },
  {
   "cell_type": "code",
   "execution_count": null,
   "metadata": {},
   "outputs": [],
   "source": [
    "### Recipe\n",
    "### Build a FLAREInstructQueryEngine which has the generator LLM play\n",
    "### a more active role in retrieval by prompting it to elicit retrieval\n",
    "### instructions on what it needs to answer the user query.\n",
    "\n",
    "callback_handler = UpTrainCallbackHandler(\n",
    "    uptrain_api_key=\"up-*************************\"\n",
    ")\n",
    "callback_manager = CallbackManager([callback_handler])\n",
    "service_context = ServiceContext.from_defaults(\n",
    "    callback_manager=callback_manager, llm=OpenAI(model=\"gpt-4\")\n",
    ")\n",
    "\n",
    "# Build FLAREInstructQueryEngine\n",
    "index = VectorStoreIndex.from_documents(\n",
    "    documents, service_context=service_context\n",
    ")\n",
    "index_query_engine = index.as_query_engine(\n",
    "    similarity_top_k=2, service_context=service_context\n",
    ")\n",
    "flare_query_engine = FLAREInstructQueryEngine(\n",
    "    query_engine=index_query_engine,\n",
    "    service_context=service_context,\n",
    "    max_iterations=7,\n",
    "    verbose=True,\n",
    ")\n",
    "\n",
    "# Use your advanced RAG\n",
    "response = flare_query_engine.query(\n",
    "    \"Can you tell me about the author's trajectory in the startup world?\"\n",
    ")"
   ]
  }
 ],
 "metadata": {
  "kernelspec": {
   "display_name": "phoenixdev",
   "language": "python",
   "name": "python3"
  },
  "language_info": {
   "codemirror_mode": {
    "name": "ipython",
    "version": 3
   },
   "file_extension": ".py",
   "mimetype": "text/x-python",
   "name": "python",
   "nbconvert_exporter": "python",
   "pygments_lexer": "ipython3"
  }
 },
 "nbformat": 4,
 "nbformat_minor": 2
}
